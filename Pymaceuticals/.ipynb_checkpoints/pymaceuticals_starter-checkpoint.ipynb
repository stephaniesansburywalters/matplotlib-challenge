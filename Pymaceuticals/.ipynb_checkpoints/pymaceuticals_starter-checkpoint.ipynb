{
 "cells": [
  {
   "cell_type": "code",
   "execution_count": 1,
   "metadata": {},
   "outputs": [
    {
     "data": {
      "text/html": [
       "<div>\n",
       "<style scoped>\n",
       "    .dataframe tbody tr th:only-of-type {\n",
       "        vertical-align: middle;\n",
       "    }\n",
       "\n",
       "    .dataframe tbody tr th {\n",
       "        vertical-align: top;\n",
       "    }\n",
       "\n",
       "    .dataframe thead th {\n",
       "        text-align: right;\n",
       "    }\n",
       "</style>\n",
       "<table border=\"1\" class=\"dataframe\">\n",
       "  <thead>\n",
       "    <tr style=\"text-align: right;\">\n",
       "      <th></th>\n",
       "      <th>Mouse ID</th>\n",
       "      <th>Timepoint</th>\n",
       "      <th>Tumor Volume (mm3)</th>\n",
       "      <th>Metastatic Sites</th>\n",
       "      <th>Drug</th>\n",
       "    </tr>\n",
       "  </thead>\n",
       "  <tbody>\n",
       "    <tr>\n",
       "      <th>0</th>\n",
       "      <td>b128</td>\n",
       "      <td>0</td>\n",
       "      <td>45.0</td>\n",
       "      <td>0</td>\n",
       "      <td>Capomulin</td>\n",
       "    </tr>\n",
       "    <tr>\n",
       "      <th>1</th>\n",
       "      <td>f932</td>\n",
       "      <td>0</td>\n",
       "      <td>45.0</td>\n",
       "      <td>0</td>\n",
       "      <td>Ketapril</td>\n",
       "    </tr>\n",
       "    <tr>\n",
       "      <th>2</th>\n",
       "      <td>g107</td>\n",
       "      <td>0</td>\n",
       "      <td>45.0</td>\n",
       "      <td>0</td>\n",
       "      <td>Ketapril</td>\n",
       "    </tr>\n",
       "    <tr>\n",
       "      <th>3</th>\n",
       "      <td>a457</td>\n",
       "      <td>0</td>\n",
       "      <td>45.0</td>\n",
       "      <td>0</td>\n",
       "      <td>Ketapril</td>\n",
       "    </tr>\n",
       "    <tr>\n",
       "      <th>4</th>\n",
       "      <td>c819</td>\n",
       "      <td>0</td>\n",
       "      <td>45.0</td>\n",
       "      <td>0</td>\n",
       "      <td>Ketapril</td>\n",
       "    </tr>\n",
       "  </tbody>\n",
       "</table>\n",
       "</div>"
      ],
      "text/plain": [
       "  Mouse ID  Timepoint  Tumor Volume (mm3)  Metastatic Sites       Drug\n",
       "0     b128          0                45.0                 0  Capomulin\n",
       "1     f932          0                45.0                 0   Ketapril\n",
       "2     g107          0                45.0                 0   Ketapril\n",
       "3     a457          0                45.0                 0   Ketapril\n",
       "4     c819          0                45.0                 0   Ketapril"
      ]
     },
     "execution_count": 1,
     "metadata": {},
     "output_type": "execute_result"
    }
   ],
   "source": [
    "# Dependencies and Setup\n",
    "%matplotlib inline\n",
    "import matplotlib.pyplot as plt\n",
    "import pandas as pd\n",
    "import numpy as np\n",
    "from scipy.stats import sem\n",
    "\n",
    "# Hide warning messages in notebook\n",
    "import warnings\n",
    "warnings.filterwarnings('ignore')\n",
    "\n",
    "# File to Load (Remember to Change These)\n",
    "mouse_drug_data_to_load = \"mouse_drug_data.csv\"\n",
    "clinical_trial_data_to_load = \"clinicaltrial_data.csv\"\n",
    "\n",
    "# Read the Mouse and Drug Data and the Clinical Trial Data\n",
    "mouse_drug_df = pd.read_csv(mouse_drug_data_to_load)\n",
    "clinical_trial_df = pd.read_csv(clinical_trial_data_to_load)\n",
    "\n",
    "# Combine the data into a single dataset\n",
    "combined_data_df = pd.merge(clinical_trial_df, mouse_drug_df,\n",
    "                                 how='left', on='Mouse ID')\n",
    "\n",
    "# Display the data table for preview\n",
    "combined_data_df.head()\n"
   ]
  },
  {
   "cell_type": "markdown",
   "metadata": {},
   "source": [
    "## Tumor Response to Treatment"
   ]
  },
  {
   "cell_type": "code",
   "execution_count": 2,
   "metadata": {},
   "outputs": [
    {
     "data": {
      "text/html": [
       "<div>\n",
       "<style scoped>\n",
       "    .dataframe tbody tr th:only-of-type {\n",
       "        vertical-align: middle;\n",
       "    }\n",
       "\n",
       "    .dataframe tbody tr th {\n",
       "        vertical-align: top;\n",
       "    }\n",
       "\n",
       "    .dataframe thead th {\n",
       "        text-align: right;\n",
       "    }\n",
       "</style>\n",
       "<table border=\"1\" class=\"dataframe\">\n",
       "  <thead>\n",
       "    <tr style=\"text-align: right;\">\n",
       "      <th></th>\n",
       "      <th>Drug</th>\n",
       "      <th>Timepoint</th>\n",
       "      <th>Tumor Volume (mm3)</th>\n",
       "    </tr>\n",
       "  </thead>\n",
       "  <tbody>\n",
       "    <tr>\n",
       "      <th>0</th>\n",
       "      <td>Capomulin</td>\n",
       "      <td>0</td>\n",
       "      <td>45.000000</td>\n",
       "    </tr>\n",
       "    <tr>\n",
       "      <th>1</th>\n",
       "      <td>Capomulin</td>\n",
       "      <td>5</td>\n",
       "      <td>44.266086</td>\n",
       "    </tr>\n",
       "    <tr>\n",
       "      <th>2</th>\n",
       "      <td>Capomulin</td>\n",
       "      <td>10</td>\n",
       "      <td>43.084291</td>\n",
       "    </tr>\n",
       "    <tr>\n",
       "      <th>3</th>\n",
       "      <td>Capomulin</td>\n",
       "      <td>15</td>\n",
       "      <td>42.064317</td>\n",
       "    </tr>\n",
       "    <tr>\n",
       "      <th>4</th>\n",
       "      <td>Capomulin</td>\n",
       "      <td>20</td>\n",
       "      <td>40.716325</td>\n",
       "    </tr>\n",
       "    <tr>\n",
       "      <th>5</th>\n",
       "      <td>Capomulin</td>\n",
       "      <td>25</td>\n",
       "      <td>39.939528</td>\n",
       "    </tr>\n",
       "    <tr>\n",
       "      <th>6</th>\n",
       "      <td>Capomulin</td>\n",
       "      <td>30</td>\n",
       "      <td>38.769339</td>\n",
       "    </tr>\n",
       "    <tr>\n",
       "      <th>7</th>\n",
       "      <td>Capomulin</td>\n",
       "      <td>35</td>\n",
       "      <td>37.816839</td>\n",
       "    </tr>\n",
       "    <tr>\n",
       "      <th>8</th>\n",
       "      <td>Capomulin</td>\n",
       "      <td>40</td>\n",
       "      <td>36.958001</td>\n",
       "    </tr>\n",
       "    <tr>\n",
       "      <th>9</th>\n",
       "      <td>Capomulin</td>\n",
       "      <td>45</td>\n",
       "      <td>36.236114</td>\n",
       "    </tr>\n",
       "    <tr>\n",
       "      <th>10</th>\n",
       "      <td>Ceftamin</td>\n",
       "      <td>0</td>\n",
       "      <td>45.000000</td>\n",
       "    </tr>\n",
       "    <tr>\n",
       "      <th>11</th>\n",
       "      <td>Ceftamin</td>\n",
       "      <td>5</td>\n",
       "      <td>46.503051</td>\n",
       "    </tr>\n",
       "    <tr>\n",
       "      <th>12</th>\n",
       "      <td>Ceftamin</td>\n",
       "      <td>10</td>\n",
       "      <td>48.285125</td>\n",
       "    </tr>\n",
       "    <tr>\n",
       "      <th>13</th>\n",
       "      <td>Ceftamin</td>\n",
       "      <td>15</td>\n",
       "      <td>50.094055</td>\n",
       "    </tr>\n",
       "    <tr>\n",
       "      <th>14</th>\n",
       "      <td>Ceftamin</td>\n",
       "      <td>20</td>\n",
       "      <td>52.157049</td>\n",
       "    </tr>\n",
       "    <tr>\n",
       "      <th>15</th>\n",
       "      <td>Ceftamin</td>\n",
       "      <td>25</td>\n",
       "      <td>54.287674</td>\n",
       "    </tr>\n",
       "    <tr>\n",
       "      <th>16</th>\n",
       "      <td>Ceftamin</td>\n",
       "      <td>30</td>\n",
       "      <td>56.769517</td>\n",
       "    </tr>\n",
       "    <tr>\n",
       "      <th>17</th>\n",
       "      <td>Ceftamin</td>\n",
       "      <td>35</td>\n",
       "      <td>58.827548</td>\n",
       "    </tr>\n",
       "    <tr>\n",
       "      <th>18</th>\n",
       "      <td>Ceftamin</td>\n",
       "      <td>40</td>\n",
       "      <td>61.467895</td>\n",
       "    </tr>\n",
       "    <tr>\n",
       "      <th>19</th>\n",
       "      <td>Ceftamin</td>\n",
       "      <td>45</td>\n",
       "      <td>64.132421</td>\n",
       "    </tr>\n",
       "  </tbody>\n",
       "</table>\n",
       "</div>"
      ],
      "text/plain": [
       "         Drug  Timepoint  Tumor Volume (mm3)\n",
       "0   Capomulin          0           45.000000\n",
       "1   Capomulin          5           44.266086\n",
       "2   Capomulin         10           43.084291\n",
       "3   Capomulin         15           42.064317\n",
       "4   Capomulin         20           40.716325\n",
       "5   Capomulin         25           39.939528\n",
       "6   Capomulin         30           38.769339\n",
       "7   Capomulin         35           37.816839\n",
       "8   Capomulin         40           36.958001\n",
       "9   Capomulin         45           36.236114\n",
       "10   Ceftamin          0           45.000000\n",
       "11   Ceftamin          5           46.503051\n",
       "12   Ceftamin         10           48.285125\n",
       "13   Ceftamin         15           50.094055\n",
       "14   Ceftamin         20           52.157049\n",
       "15   Ceftamin         25           54.287674\n",
       "16   Ceftamin         30           56.769517\n",
       "17   Ceftamin         35           58.827548\n",
       "18   Ceftamin         40           61.467895\n",
       "19   Ceftamin         45           64.132421"
      ]
     },
     "execution_count": 2,
     "metadata": {},
     "output_type": "execute_result"
    }
   ],
   "source": [
    "# Store the Mean Tumor Volume Data Grouped by Drug and Timepoint \n",
    "Average_Tumor_Vol_by_Drug_and_TP = combined_data_df.groupby(['Drug', 'Timepoint']).mean()['Tumor Volume (mm3)']\n",
    "\n",
    "# Convert to DataFrame\n",
    "Tumor_Vol_by_Drug_and_TP_df = pd.DataFrame(Average_Tumor_Vol_by_Drug_and_TP)\n",
    "Tumor_Vol_by_Drug_and_TP_df = Tumor_Vol_by_Drug_and_TP_df.reset_index()\n",
    "\n",
    "# Preview DataFrame\n",
    "Tumor_Vol_by_Drug_and_TP_df.head(20)\n"
   ]
  },
  {
   "cell_type": "code",
   "execution_count": null,
   "metadata": {
    "scrolled": true
   },
   "outputs": [],
   "source": []
  },
  {
   "cell_type": "code",
   "execution_count": 3,
   "metadata": {},
   "outputs": [
    {
     "data": {
      "text/html": [
       "<div>\n",
       "<style scoped>\n",
       "    .dataframe tbody tr th:only-of-type {\n",
       "        vertical-align: middle;\n",
       "    }\n",
       "\n",
       "    .dataframe tbody tr th {\n",
       "        vertical-align: top;\n",
       "    }\n",
       "\n",
       "    .dataframe thead th {\n",
       "        text-align: right;\n",
       "    }\n",
       "</style>\n",
       "<table border=\"1\" class=\"dataframe\">\n",
       "  <thead>\n",
       "    <tr style=\"text-align: right;\">\n",
       "      <th></th>\n",
       "      <th>Drug</th>\n",
       "      <th>Timepoint</th>\n",
       "      <th>Tumor Volume (mm3)</th>\n",
       "    </tr>\n",
       "  </thead>\n",
       "  <tbody>\n",
       "    <tr>\n",
       "      <th>0</th>\n",
       "      <td>Capomulin</td>\n",
       "      <td>0</td>\n",
       "      <td>0.000000</td>\n",
       "    </tr>\n",
       "    <tr>\n",
       "      <th>1</th>\n",
       "      <td>Capomulin</td>\n",
       "      <td>5</td>\n",
       "      <td>0.448593</td>\n",
       "    </tr>\n",
       "    <tr>\n",
       "      <th>2</th>\n",
       "      <td>Capomulin</td>\n",
       "      <td>10</td>\n",
       "      <td>0.702684</td>\n",
       "    </tr>\n",
       "    <tr>\n",
       "      <th>3</th>\n",
       "      <td>Capomulin</td>\n",
       "      <td>15</td>\n",
       "      <td>0.838617</td>\n",
       "    </tr>\n",
       "    <tr>\n",
       "      <th>4</th>\n",
       "      <td>Capomulin</td>\n",
       "      <td>20</td>\n",
       "      <td>0.909731</td>\n",
       "    </tr>\n",
       "  </tbody>\n",
       "</table>\n",
       "</div>"
      ],
      "text/plain": [
       "        Drug  Timepoint  Tumor Volume (mm3)\n",
       "0  Capomulin          0            0.000000\n",
       "1  Capomulin          5            0.448593\n",
       "2  Capomulin         10            0.702684\n",
       "3  Capomulin         15            0.838617\n",
       "4  Capomulin         20            0.909731"
      ]
     },
     "execution_count": 3,
     "metadata": {},
     "output_type": "execute_result"
    }
   ],
   "source": [
    "# Store the Standard Error of Tumor Volumes Grouped by Drug and Timepoint\n",
    "Standard_Error_Tumor_Vol_by_Drug_and_TP = combined_data_df.groupby(['Drug', 'Timepoint'])['Tumor Volume (mm3)'].sem()\n",
    "\n",
    "# Convert to DataFrame\n",
    "Standard_Error_Tumor_Vol_by_Drug_and_TP_df = pd.DataFrame(Standard_Error_Tumor_Vol_by_Drug_and_TP).reset_index()\n",
    "\n",
    "# Preview DataFrame\n",
    "Standard_Error_Tumor_Vol_by_Drug_and_TP_df.head()\n"
   ]
  },
  {
   "cell_type": "code",
   "execution_count": null,
   "metadata": {},
   "outputs": [],
   "source": []
  },
  {
   "cell_type": "code",
   "execution_count": 4,
   "metadata": {},
   "outputs": [
    {
     "data": {
      "text/html": [
       "<div>\n",
       "<style scoped>\n",
       "    .dataframe tbody tr th:only-of-type {\n",
       "        vertical-align: middle;\n",
       "    }\n",
       "\n",
       "    .dataframe tbody tr th {\n",
       "        vertical-align: top;\n",
       "    }\n",
       "\n",
       "    .dataframe thead th {\n",
       "        text-align: right;\n",
       "    }\n",
       "</style>\n",
       "<table border=\"1\" class=\"dataframe\">\n",
       "  <thead>\n",
       "    <tr style=\"text-align: right;\">\n",
       "      <th>Drug</th>\n",
       "      <th>Capomulin</th>\n",
       "      <th>Ceftamin</th>\n",
       "      <th>Infubinol</th>\n",
       "      <th>Ketapril</th>\n",
       "      <th>Naftisol</th>\n",
       "      <th>Placebo</th>\n",
       "      <th>Propriva</th>\n",
       "      <th>Ramicane</th>\n",
       "      <th>Stelasyn</th>\n",
       "      <th>Zoniferol</th>\n",
       "    </tr>\n",
       "    <tr>\n",
       "      <th>Timepoint</th>\n",
       "      <th></th>\n",
       "      <th></th>\n",
       "      <th></th>\n",
       "      <th></th>\n",
       "      <th></th>\n",
       "      <th></th>\n",
       "      <th></th>\n",
       "      <th></th>\n",
       "      <th></th>\n",
       "      <th></th>\n",
       "    </tr>\n",
       "  </thead>\n",
       "  <tbody>\n",
       "    <tr>\n",
       "      <th>0</th>\n",
       "      <td>45.000000</td>\n",
       "      <td>45.000000</td>\n",
       "      <td>45.000000</td>\n",
       "      <td>45.000000</td>\n",
       "      <td>45.000000</td>\n",
       "      <td>45.000000</td>\n",
       "      <td>45.000000</td>\n",
       "      <td>45.000000</td>\n",
       "      <td>45.000000</td>\n",
       "      <td>45.000000</td>\n",
       "    </tr>\n",
       "    <tr>\n",
       "      <th>5</th>\n",
       "      <td>44.266086</td>\n",
       "      <td>46.503051</td>\n",
       "      <td>47.062001</td>\n",
       "      <td>47.389175</td>\n",
       "      <td>46.796098</td>\n",
       "      <td>47.125589</td>\n",
       "      <td>47.248967</td>\n",
       "      <td>43.944859</td>\n",
       "      <td>47.527452</td>\n",
       "      <td>46.851818</td>\n",
       "    </tr>\n",
       "    <tr>\n",
       "      <th>10</th>\n",
       "      <td>43.084291</td>\n",
       "      <td>48.285125</td>\n",
       "      <td>49.403909</td>\n",
       "      <td>49.582269</td>\n",
       "      <td>48.694210</td>\n",
       "      <td>49.423329</td>\n",
       "      <td>49.101541</td>\n",
       "      <td>42.531957</td>\n",
       "      <td>49.463844</td>\n",
       "      <td>48.689881</td>\n",
       "    </tr>\n",
       "    <tr>\n",
       "      <th>15</th>\n",
       "      <td>42.064317</td>\n",
       "      <td>50.094055</td>\n",
       "      <td>51.296397</td>\n",
       "      <td>52.399974</td>\n",
       "      <td>50.933018</td>\n",
       "      <td>51.359742</td>\n",
       "      <td>51.067318</td>\n",
       "      <td>41.495061</td>\n",
       "      <td>51.529409</td>\n",
       "      <td>50.779059</td>\n",
       "    </tr>\n",
       "    <tr>\n",
       "      <th>20</th>\n",
       "      <td>40.716325</td>\n",
       "      <td>52.157049</td>\n",
       "      <td>53.197691</td>\n",
       "      <td>54.920935</td>\n",
       "      <td>53.644087</td>\n",
       "      <td>54.364417</td>\n",
       "      <td>53.346737</td>\n",
       "      <td>40.238325</td>\n",
       "      <td>54.067395</td>\n",
       "      <td>53.170334</td>\n",
       "    </tr>\n",
       "  </tbody>\n",
       "</table>\n",
       "</div>"
      ],
      "text/plain": [
       "Drug       Capomulin   Ceftamin  Infubinol   Ketapril   Naftisol    Placebo  \\\n",
       "Timepoint                                                                     \n",
       "0          45.000000  45.000000  45.000000  45.000000  45.000000  45.000000   \n",
       "5          44.266086  46.503051  47.062001  47.389175  46.796098  47.125589   \n",
       "10         43.084291  48.285125  49.403909  49.582269  48.694210  49.423329   \n",
       "15         42.064317  50.094055  51.296397  52.399974  50.933018  51.359742   \n",
       "20         40.716325  52.157049  53.197691  54.920935  53.644087  54.364417   \n",
       "\n",
       "Drug        Propriva   Ramicane   Stelasyn  Zoniferol  \n",
       "Timepoint                                              \n",
       "0          45.000000  45.000000  45.000000  45.000000  \n",
       "5          47.248967  43.944859  47.527452  46.851818  \n",
       "10         49.101541  42.531957  49.463844  48.689881  \n",
       "15         51.067318  41.495061  51.529409  50.779059  \n",
       "20         53.346737  40.238325  54.067395  53.170334  "
      ]
     },
     "execution_count": 4,
     "metadata": {},
     "output_type": "execute_result"
    }
   ],
   "source": [
    "# Minor Data Munging to Re-Format the Data Frames\n",
    "\n",
    "Tumor_Vol_by_Drug_and_TP_df=Tumor_Vol_by_Drug_and_TP_df.pivot(index= 'Timepoint', columns= 'Drug', values= 'Tumor Volume (mm3)')\n",
    "\n",
    "# Preview that Reformatting worked\n",
    "\n",
    "Tumor_Vol_by_Drug_and_TP_df.head()\n"
   ]
  },
  {
   "cell_type": "code",
   "execution_count": null,
   "metadata": {
    "scrolled": true
   },
   "outputs": [],
   "source": []
  },
  {
   "cell_type": "code",
   "execution_count": 5,
   "metadata": {},
   "outputs": [],
   "source": [
    "# Generate the Plot (with Error Bars)\n",
    "\n",
    "# Save the Figure\n",
    "\n"
   ]
  },
  {
   "cell_type": "code",
   "execution_count": 6,
   "metadata": {},
   "outputs": [],
   "source": [
    "# Show the Figure\n",
    "plt.show()"
   ]
  },
  {
   "cell_type": "markdown",
   "metadata": {},
   "source": [
    "![Tumor Response to Treatment](../Images/treatment.png)"
   ]
  },
  {
   "cell_type": "markdown",
   "metadata": {},
   "source": [
    "## Metastatic Response to Treatment"
   ]
  },
  {
   "cell_type": "code",
   "execution_count": 7,
   "metadata": {},
   "outputs": [],
   "source": [
    "# Store the Mean Met. Site Data Grouped by Drug and Timepoint \n",
    "\n",
    "# Convert to DataFrame\n",
    "\n",
    "# Preview DataFrame\n"
   ]
  },
  {
   "cell_type": "code",
   "execution_count": null,
   "metadata": {},
   "outputs": [],
   "source": []
  },
  {
   "cell_type": "code",
   "execution_count": 8,
   "metadata": {},
   "outputs": [],
   "source": [
    "# Store the Standard Error associated with Met. Sites Grouped by Drug and Timepoint \n",
    "\n",
    "# Convert to DataFrame\n",
    "\n",
    "# Preview DataFrame\n"
   ]
  },
  {
   "cell_type": "code",
   "execution_count": null,
   "metadata": {},
   "outputs": [],
   "source": []
  },
  {
   "cell_type": "code",
   "execution_count": 9,
   "metadata": {},
   "outputs": [],
   "source": [
    "# Minor Data Munging to Re-Format the Data Frames\n",
    "\n",
    "# Preview that Reformatting worked\n"
   ]
  },
  {
   "cell_type": "code",
   "execution_count": null,
   "metadata": {
    "scrolled": true
   },
   "outputs": [],
   "source": []
  },
  {
   "cell_type": "code",
   "execution_count": 10,
   "metadata": {},
   "outputs": [],
   "source": [
    "# Generate the Plot (with Error Bars)\n",
    "\n",
    "# Save the Figure\n",
    "\n",
    "# Show the Figure\n"
   ]
  },
  {
   "cell_type": "markdown",
   "metadata": {},
   "source": [
    "![Metastatic Spread During Treatment](../Images/spread.png)"
   ]
  },
  {
   "cell_type": "markdown",
   "metadata": {},
   "source": [
    "## Survival Rates"
   ]
  },
  {
   "cell_type": "code",
   "execution_count": 11,
   "metadata": {},
   "outputs": [],
   "source": [
    "# Store the Count of Mice Grouped by Drug and Timepoint (W can pass any metric)\n",
    "\n",
    "# Convert to DataFrame\n",
    "\n",
    "# Preview DataFrame\n"
   ]
  },
  {
   "cell_type": "code",
   "execution_count": null,
   "metadata": {},
   "outputs": [],
   "source": []
  },
  {
   "cell_type": "code",
   "execution_count": 12,
   "metadata": {},
   "outputs": [],
   "source": [
    "# Minor Data Munging to Re-Format the Data Frames\n",
    "\n",
    "# Preview the Data Frame\n"
   ]
  },
  {
   "cell_type": "code",
   "execution_count": null,
   "metadata": {
    "scrolled": true
   },
   "outputs": [],
   "source": []
  },
  {
   "cell_type": "code",
   "execution_count": 13,
   "metadata": {},
   "outputs": [],
   "source": [
    "# Generate the Plot (Accounting for percentages)\n",
    "\n",
    "# Save the Figure\n",
    "\n",
    "# Show the Figure\n",
    "plt.show()"
   ]
  },
  {
   "cell_type": "markdown",
   "metadata": {},
   "source": [
    "![Metastatic Spread During Treatment](../Images/survival.png)"
   ]
  },
  {
   "cell_type": "markdown",
   "metadata": {},
   "source": [
    "## Summary Bar Graph"
   ]
  },
  {
   "cell_type": "code",
   "execution_count": 14,
   "metadata": {},
   "outputs": [],
   "source": [
    "# Calculate the percent changes for each drug\n",
    "\n",
    "# Display the data to confirm\n"
   ]
  },
  {
   "cell_type": "code",
   "execution_count": null,
   "metadata": {},
   "outputs": [],
   "source": []
  },
  {
   "cell_type": "code",
   "execution_count": 15,
   "metadata": {},
   "outputs": [
    {
     "ename": "NameError",
     "evalue": "name 'fig' is not defined",
     "output_type": "error",
     "traceback": [
      "\u001b[1;31m---------------------------------------------------------------------------\u001b[0m",
      "\u001b[1;31mNameError\u001b[0m                                 Traceback (most recent call last)",
      "\u001b[1;32m<ipython-input-15-eb553307bee3>\u001b[0m in \u001b[0;36m<module>\u001b[1;34m\u001b[0m\n\u001b[0;32m     18\u001b[0m \u001b[1;33m\u001b[0m\u001b[0m\n\u001b[0;32m     19\u001b[0m \u001b[1;31m# Show the Figure\u001b[0m\u001b[1;33m\u001b[0m\u001b[1;33m\u001b[0m\u001b[1;33m\u001b[0m\u001b[0m\n\u001b[1;32m---> 20\u001b[1;33m \u001b[0mfig\u001b[0m\u001b[1;33m.\u001b[0m\u001b[0mshow\u001b[0m\u001b[1;33m(\u001b[0m\u001b[1;33m)\u001b[0m\u001b[1;33m\u001b[0m\u001b[1;33m\u001b[0m\u001b[0m\n\u001b[0m",
      "\u001b[1;31mNameError\u001b[0m: name 'fig' is not defined"
     ]
    }
   ],
   "source": [
    "# Store all Relevant Percent Changes into a Tuple\n",
    "\n",
    "\n",
    "# Splice the data between passing and failing drugs\n",
    "\n",
    "\n",
    "# Orient widths. Add labels, tick marks, etc. \n",
    "\n",
    "\n",
    "# Use functions to label the percentages of changes\n",
    "\n",
    "\n",
    "# Call functions to implement the function calls\n",
    "\n",
    "\n",
    "# Save the Figure\n",
    "\n",
    "\n",
    "# Show the Figure\n",
    "fig.show()"
   ]
  },
  {
   "cell_type": "markdown",
   "metadata": {},
   "source": [
    "![Metastatic Spread During Treatment](../Images/change.png)"
   ]
  },
  {
   "cell_type": "code",
   "execution_count": null,
   "metadata": {},
   "outputs": [],
   "source": []
  }
 ],
 "metadata": {
  "anaconda-cloud": {},
  "kernelspec": {
   "display_name": "Python 3",
   "language": "python",
   "name": "python3"
  },
  "language_info": {
   "codemirror_mode": {
    "name": "ipython",
    "version": 3
   },
   "file_extension": ".py",
   "mimetype": "text/x-python",
   "name": "python",
   "nbconvert_exporter": "python",
   "pygments_lexer": "ipython3",
   "version": "3.7.3"
  }
 },
 "nbformat": 4,
 "nbformat_minor": 1
}
